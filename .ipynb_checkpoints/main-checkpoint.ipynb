{
 "cells": [
  {
   "cell_type": "code",
   "execution_count": null,
   "id": "5aca55f5-1600-4c2d-a41c-5d106a967025",
   "metadata": {},
   "outputs": [],
   "source": [
    "!pip install jupyterlab-git"
   ]
  },
  {
   "cell_type": "code",
   "execution_count": null,
   "id": "06d53e33-0085-48de-bfbb-0e0e686e1cdd",
   "metadata": {},
   "outputs": [],
   "source": [
    "!jupyter labextension install @jupyterlab/git"
   ]
  },
  {
   "cell_type": "code",
   "execution_count": null,
   "id": "5a97b432-673a-4560-b68a-af59dc0eb63f",
   "metadata": {},
   "outputs": [],
   "source": []
  }
 ],
 "metadata": {
  "kernelspec": {
   "display_name": "Python 3 (ipykernel)",
   "language": "python",
   "name": "python3"
  },
  "language_info": {
   "codemirror_mode": {
    "name": "ipython",
    "version": 3
   },
   "file_extension": ".py",
   "mimetype": "text/x-python",
   "name": "python",
   "nbconvert_exporter": "python",
   "pygments_lexer": "ipython3",
   "version": "3.12.7"
  }
 },
 "nbformat": 4,
 "nbformat_minor": 5
}
