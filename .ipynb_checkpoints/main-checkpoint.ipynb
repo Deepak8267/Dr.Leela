{
 "cells": [
  {
   "cell_type": "code",
   "execution_count": 1,
   "id": "5a97b432-673a-4560-b68a-af59dc0eb63f",
   "metadata": {},
   "outputs": [
    {
     "name": "stdout",
     "output_type": "stream",
     "text": [
      "vv gupta\n",
      "hello\n"
     ]
    }
   ],
   "source": [
    "print(\"vv gupta\")\n",
    "print(\"hello\")"
   ]
  },
  {
   "cell_type": "code",
   "execution_count": null,
   "id": "6d69480f-684d-4869-a8b4-e05de8b705a3",
   "metadata": {},
   "outputs": [],
   "source": []
  }
 ],
 "metadata": {
  "kernelspec": {
   "display_name": "Python 3 (ipykernel)",
   "language": "python",
   "name": "python3"
  },
  "language_info": {
   "codemirror_mode": {
    "name": "ipython",
    "version": 3
   },
   "file_extension": ".py",
   "mimetype": "text/x-python",
   "name": "python",
   "nbconvert_exporter": "python",
   "pygments_lexer": "ipython3",
   "version": "3.12.7"
  }
 },
 "nbformat": 4,
 "nbformat_minor": 5
}
